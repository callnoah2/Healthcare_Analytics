{
 "cells": [
  {
   "cell_type": "markdown",
   "metadata": {},
   "source": [
    "# Data preprocessing"
   ]
  },
  {
   "cell_type": "markdown",
   "metadata": {},
   "source": [
    "## Important functions to be used multiple times"
   ]
  },
  {
   "cell_type": "code",
   "execution_count": null,
   "metadata": {},
   "outputs": [],
   "source": [
    "# Calculate the z-score for a specified column\n",
    "def get_z_scores(column_name):\n",
    "    z_scores = np.abs((df[column_name] - df[column_name].mean()) / df[column_name].std())\n",
    "    return z_scores\n",
    "\n",
    "# Remove outliers from the DataFrame based on z-scores\n",
    "def remove_outliers(z_scores):\n",
    "    # Define a threshold for outlier detection (e.g., z-score > 3)\n",
    "    threshold = 3\n",
    "\n",
    "    # Filter rows where z-score exceeds the threshold\n",
    "    outliers = df[z_scores > threshold]\n",
    "\n",
    "    # Remove outliers from the DataFrame\n",
    "    cleaned_df = df[z_scores <= threshold]\n",
    "    return cleaned_df"
   ]
  },
  {
   "cell_type": "markdown",
   "metadata": {},
   "source": [
    "## HS_Cigar_Use"
   ]
  },
  {
   "cell_type": "code",
   "execution_count": 9,
   "metadata": {},
   "outputs": [
    {
     "name": "stdout",
     "output_type": "stream",
     "text": [
      "Outliers removed and inserted successfully!\n"
     ]
    },
    {
     "name": "stderr",
     "output_type": "stream",
     "text": [
      "/var/folders/9q/yldjq0js2ng8cysrh56tt9xw0000gn/T/ipykernel_38943/708248302.py:15: UserWarning: pandas only supports SQLAlchemy connectable (engine/connection) or database string URI or sqlite3 DBAPI2 connection. Other DBAPI2 objects are not tested. Please consider using SQLAlchemy.\n",
      "  df = pd.read_sql(query, conn)\n"
     ]
    }
   ],
   "source": [
    "import pandas as pd\n",
    "import numpy as np\n",
    "import mysql.connector\n",
    "\n",
    "conn = mysql.connector.connect(\n",
    "    host=\"localhost\",\n",
    "    user=\"monty\",\n",
    "    password=\"sushiSQL\",\n",
    "    database=\"HealthCareAnalytics\"\n",
    ")\n",
    "cursor = conn.cursor()\n",
    "\n",
    "# Read data from the MySQL table into a pandas DataFrame\n",
    "query = \"SELECT * FROM cdc_cigar_use\"\n",
    "df = pd.read_sql(query, conn)\n",
    "\n",
    "# Close the MySQL connection\n",
    "conn.close()\n",
    "\n",
    "# Specify the columns with potential outliers\n",
    "dirty_columns = [\n",
    "    'Greater_Risk_Data_Value',\n",
    "    'Greater_Risk_Low_Confidence_Limit',\n",
    "    'Greater_Risk_High_Confidence_Limit',\n",
    "    'Lesser_Risk_Data_Value',\n",
    "    'Lesser_Risk_Low_Confidence_Limit',\n",
    "    'Lesser_Risk_High_Confidence_Limit'\n",
    "]\n",
    "\n",
    "# Iterate through the columns to remove outliers\n",
    "for column in dirty_columns:\n",
    "    z_scores = get_z_scores(column)\n",
    "    cleaned_df = remove_outliers(z_scores)\n",
    "\n",
    "print(\"Outliers removed and inserted successfully!\")\n"
   ]
  },
  {
   "cell_type": "code",
   "execution_count": 10,
   "metadata": {},
   "outputs": [
    {
     "name": "stdout",
     "output_type": "stream",
     "text": [
      "Cleaned data inserted successfully!\n"
     ]
    }
   ],
   "source": [
    "conn = mysql.connector.connect(\n",
    "    host=\"localhost\",\n",
    "    user=\"monty\",\n",
    "    password=\"sushiSQL\",\n",
    "    database=\"HealthCareAnalytics\"\n",
    ")\n",
    "cursor = conn.cursor()\n",
    "\n",
    "# Truncate the existing table to remove all data\n",
    "truncate_query = \"TRUNCATE TABLE cdc_cigar_use\"\n",
    "cursor.execute(truncate_query)\n",
    "conn.commit()\n",
    "\n",
    "# Insert the cleaned data into the MySQL table\n",
    "insert_query = (\n",
    "    \"INSERT INTO cdc_cigar_use \"\n",
    "    \"(YEAR, LocationAbbr, LocationDesc, DataSource, Topic, Subtopic, \"\n",
    "    \"ShortQuestionText, Greater_Risk_Question, Description, Data_Value_Symbol, \"\n",
    "    \"Data_Value_Type, Greater_Risk_Data_Value, Greater_Risk_Data_Value_Footnote_Symbol, \"\n",
    "    \"Greater_Risk_Data_Value_Footnote, Greater_Risk_Low_Confidence_Limit, \"\n",
    "    \"Greater_Risk_High_Confidence_Limit, Lesser_Risk_Question, Lesser_Risk_Data_Value, \"\n",
    "    \"Lesser_Risk_Data_Value_Footnote_Symbol, Lesser_Risk_Data_Value_Footnote, \"\n",
    "    \"Lesser_Risk_Low_Confidence_Limit, Lesser_Risk_High_Confidence_Limit, Sample_Size, \"\n",
    "    \"Sex, Race, Grade, SexualIdentity, SexOfSexualContacts, GeoLocation, TopicId, \"\n",
    "    \"SubTopicID, QuestionCode, LocationId, StratID1, StratID2, StratID3, StratID4, \"\n",
    "    \"StratID5, StratificationType, StratID6) \"\n",
    "    \"VALUES \"\n",
    "    \"(%s, %s, %s, %s, %s, %s, %s, %s, %s, %s, %s, %s, %s, %s, %s, %s, %s, %s, %s, %s, \"\n",
    "    \"%s, %s, %s, %s, %s, %s, %s, %s, %s, %s, %s, %s, %s, %s, %s, %s, %s, %s, %s, %s)\"\n",
    ")\n",
    "\n",
    "for row in cleaned_df.itertuples(index=False):\n",
    "    cursor.execute(insert_query, row)\n",
    "\n",
    "# Commit the changes and close the connection\n",
    "conn.commit()\n",
    "conn.close()\n",
    "\n",
    "print(\"Data Cleaned and inserted successfully!\")\n"
   ]
  },
  {
   "cell_type": "markdown",
   "metadata": {},
   "source": []
  }
 ],
 "metadata": {
  "kernelspec": {
   "display_name": "Python 3",
   "language": "python",
   "name": "python3"
  },
  "language_info": {
   "codemirror_mode": {
    "name": "ipython",
    "version": 3
   },
   "file_extension": ".py",
   "mimetype": "text/x-python",
   "name": "python",
   "nbconvert_exporter": "python",
   "pygments_lexer": "ipython3",
   "version": "3.11.1"
  }
 },
 "nbformat": 4,
 "nbformat_minor": 2
}
