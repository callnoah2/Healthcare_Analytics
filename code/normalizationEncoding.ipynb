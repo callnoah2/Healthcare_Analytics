{
 "cells": [
  {
   "cell_type": "markdown",
   "metadata": {},
   "source": [
    "# Data Normalization and one-hot encoding"
   ]
  },
  {
   "cell_type": "code",
   "execution_count": 1,
   "metadata": {},
   "outputs": [],
   "source": [
    "import pandas as pd\n",
    "from sklearn.preprocessing import MinMaxScaler, OneHotEncoder\n",
    "import mysql.connector"
   ]
  },
  {
   "cell_type": "code",
   "execution_count": 6,
   "metadata": {},
   "outputs": [
    {
     "name": "stderr",
     "output_type": "stream",
     "text": [
      "/var/folders/9q/yldjq0js2ng8cysrh56tt9xw0000gn/T/ipykernel_16350/1928871628.py:16: UserWarning: pandas only supports SQLAlchemy connectable (engine/connection) or database string URI or sqlite3 DBAPI2 connection. Other DBAPI2 objects are not tested. Please consider using SQLAlchemy.\n",
      "  df = pd.read_sql(query, conn)\n"
     ]
    },
    {
     "ename": "MySQLInterfaceError",
     "evalue": "Python type csr_matrix cannot be converted",
     "output_type": "error",
     "traceback": [
      "\u001b[0;31m---------------------------------------------------------------------------\u001b[0m",
      "\u001b[0;31mMySQLInterfaceError\u001b[0m                       Traceback (most recent call last)",
      "Cell \u001b[0;32mIn[6], line 54\u001b[0m\n\u001b[1;32m     37\u001b[0m     \u001b[38;5;28;01mfor\u001b[39;00m _, row \u001b[38;5;129;01min\u001b[39;00m df_processed\u001b[38;5;241m.\u001b[39miterrows():\n\u001b[1;32m     38\u001b[0m         update_query \u001b[38;5;241m=\u001b[39m (\n\u001b[1;32m     39\u001b[0m             \u001b[38;5;124m\"\u001b[39m\u001b[38;5;124mUPDATE cdc_cigar_use SET \u001b[39m\u001b[38;5;124m\"\u001b[39m\n\u001b[1;32m     40\u001b[0m             \u001b[38;5;124m\"\u001b[39m\u001b[38;5;124mYEAR = \u001b[39m\u001b[38;5;132;01m%s\u001b[39;00m\u001b[38;5;124m, LocationAbbr = \u001b[39m\u001b[38;5;132;01m%s\u001b[39;00m\u001b[38;5;124m, LocationDesc = \u001b[39m\u001b[38;5;132;01m%s\u001b[39;00m\u001b[38;5;124m, DataSource = \u001b[39m\u001b[38;5;132;01m%s\u001b[39;00m\u001b[38;5;124m, \u001b[39m\u001b[38;5;124m\"\u001b[39m\n\u001b[0;32m   (...)\u001b[0m\n\u001b[1;32m     52\u001b[0m             \u001b[38;5;124m\"\u001b[39m\u001b[38;5;124mWHERE <primary_key_column> = <primary_key_value>\u001b[39m\u001b[38;5;124m\"\u001b[39m  \u001b[38;5;66;03m# Update condition\u001b[39;00m\n\u001b[1;32m     53\u001b[0m         )\n\u001b[0;32m---> 54\u001b[0m         \u001b[43mcursor\u001b[49m\u001b[38;5;241;43m.\u001b[39;49m\u001b[43mexecute\u001b[49m\u001b[43m(\u001b[49m\u001b[43mupdate_query\u001b[49m\u001b[43m,\u001b[49m\u001b[43m \u001b[49m\u001b[38;5;28;43mtuple\u001b[39;49m\u001b[43m(\u001b[49m\u001b[43mrow\u001b[49m\u001b[43m)\u001b[49m\u001b[43m)\u001b[49m\n\u001b[1;32m     56\u001b[0m \u001b[38;5;28;01melse\u001b[39;00m:\n\u001b[1;32m     57\u001b[0m     \u001b[38;5;28mprint\u001b[39m(\u001b[38;5;124m\"\u001b[39m\u001b[38;5;124mDataFrame is empty or numerical_cols or categorical_cols are not specified.\u001b[39m\u001b[38;5;124m\"\u001b[39m)\n",
      "File \u001b[0;32m/Library/Frameworks/Python.framework/Versions/3.11/lib/python3.11/site-packages/mysql/connector/cursor_cext.py:361\u001b[0m, in \u001b[0;36mCMySQLCursor.execute\u001b[0;34m(self, operation, params, multi)\u001b[0m\n\u001b[1;32m    358\u001b[0m     \u001b[38;5;28;01mraise\u001b[39;00m ProgrammingError(\u001b[38;5;28mstr\u001b[39m(err)) \u001b[38;5;28;01mfrom\u001b[39;00m \u001b[38;5;21;01merr\u001b[39;00m\n\u001b[1;32m    360\u001b[0m \u001b[38;5;28;01mif\u001b[39;00m params:\n\u001b[0;32m--> 361\u001b[0m     prepared \u001b[38;5;241m=\u001b[39m \u001b[38;5;28;43mself\u001b[39;49m\u001b[38;5;241;43m.\u001b[39;49m\u001b[43m_cnx\u001b[49m\u001b[38;5;241;43m.\u001b[39;49m\u001b[43mprepare_for_mysql\u001b[49m\u001b[43m(\u001b[49m\u001b[43mparams\u001b[49m\u001b[43m)\u001b[49m\n\u001b[1;32m    362\u001b[0m     \u001b[38;5;28;01mif\u001b[39;00m \u001b[38;5;28misinstance\u001b[39m(prepared, \u001b[38;5;28mdict\u001b[39m):\n\u001b[1;32m    363\u001b[0m         \u001b[38;5;28;01mfor\u001b[39;00m key, value \u001b[38;5;129;01min\u001b[39;00m prepared\u001b[38;5;241m.\u001b[39mitems():\n",
      "File \u001b[0;32m/Library/Frameworks/Python.framework/Versions/3.11/lib/python3.11/site-packages/mysql/connector/connection_cext.py:830\u001b[0m, in \u001b[0;36mCMySQLConnection.prepare_for_mysql\u001b[0;34m(self, params)\u001b[0m\n\u001b[1;32m    821\u001b[0m         result \u001b[38;5;241m=\u001b[39m [\n\u001b[1;32m    822\u001b[0m             \u001b[38;5;28mself\u001b[39m\u001b[38;5;241m.\u001b[39mconverter\u001b[38;5;241m.\u001b[39mquote(\n\u001b[1;32m    823\u001b[0m                 \u001b[38;5;28mself\u001b[39m\u001b[38;5;241m.\u001b[39mconverter\u001b[38;5;241m.\u001b[39mescape(\n\u001b[0;32m   (...)\u001b[0m\n\u001b[1;32m    827\u001b[0m             \u001b[38;5;28;01mfor\u001b[39;00m value \u001b[38;5;129;01min\u001b[39;00m params\n\u001b[1;32m    828\u001b[0m         ]\n\u001b[1;32m    829\u001b[0m     \u001b[38;5;28;01melse\u001b[39;00m:\n\u001b[0;32m--> 830\u001b[0m         result \u001b[38;5;241m=\u001b[39m \u001b[38;5;28;43mself\u001b[39;49m\u001b[38;5;241;43m.\u001b[39;49m\u001b[43m_cmysql\u001b[49m\u001b[38;5;241;43m.\u001b[39;49m\u001b[43mconvert_to_mysql\u001b[49m\u001b[43m(\u001b[49m\u001b[38;5;241;43m*\u001b[39;49m\u001b[43mparams\u001b[49m\u001b[43m)\u001b[49m\n\u001b[1;32m    831\u001b[0m \u001b[38;5;28;01melif\u001b[39;00m \u001b[38;5;28misinstance\u001b[39m(params, \u001b[38;5;28mdict\u001b[39m):\n\u001b[1;32m    832\u001b[0m     result \u001b[38;5;241m=\u001b[39m {}\n",
      "\u001b[0;31mMySQLInterfaceError\u001b[0m: Python type csr_matrix cannot be converted"
     ]
    }
   ],
   "source": [
    "import pandas as pd\n",
    "import mysql.connector\n",
    "from sklearn.preprocessing import MinMaxScaler, OneHotEncoder\n",
    "\n",
    "# Connect to MySQL database\n",
    "conn = mysql.connector.connect(\n",
    "    host=\"localhost\",\n",
    "    user=\"monty\",\n",
    "    password=\"sushiSQL\",\n",
    "    database=\"HealthCareAnalytics\"\n",
    ")\n",
    "cursor = conn.cursor()\n",
    "\n",
    "# Read data from the MySQL table into a pandas DataFrame\n",
    "query = \"SELECT * FROM cdc_cigar_use\"\n",
    "df = pd.read_sql(query, conn)\n",
    "\n",
    "# Define numerical and categorical columns\n",
    "numerical_cols = ['YEAR', 'Greater_Risk_Data_Value', 'Greater_Risk_Low_Confidence_Limit', 'Greater_Risk_High_Confidence_Limit', 'Lesser_Risk_Data_Value', 'Lesser_Risk_Low_Confidence_Limit', 'Lesser_Risk_High_Confidence_Limit', 'Sample_Size']\n",
    "categorical_cols = ['LocationAbbr', 'LocationDesc', 'DataSource', 'Topic', 'Subtopic', 'ShortQuestionText', 'Greater_Risk_Question', 'Description', 'Data_Value_Symbol', 'Data_Value_Type', 'Greater_Risk_Data_Value_Footnote_Symbol', 'Greater_Risk_Data_Value_Footnote', 'Lesser_Risk_Question', 'Lesser_Risk_Data_Value_Footnote_Symbol', 'Lesser_Risk_Data_Value_Footnote', 'Sex', 'Race', 'Grade', 'SexualIdentity', 'SexOfSexualContacts', 'GeoLocation', 'TopicId', 'SubTopicID', 'QuestionCode', 'LocationId', 'StratID1', 'StratID2', 'StratID3', 'StratID4', 'StratID5', 'StratificationType', 'StratID6']\n",
    "\n",
    "if not df.empty and numerical_cols and categorical_cols:\n",
    "    # Initialize MinMaxScaler\n",
    "    scaler = MinMaxScaler()\n",
    "    \n",
    "    # Fit and transform numerical columns if they exist in the DataFrame\n",
    "    df[numerical_cols] = scaler.fit_transform(df[numerical_cols])\n",
    "\n",
    "    # Perform one-hot encoding for categorical columns\n",
    "    encoder = OneHotEncoder(handle_unknown='ignore')  # Remove sparse=False here\n",
    "    df_encoded = pd.DataFrame(encoder.fit_transform(df[categorical_cols]))\n",
    "\n",
    "    # Concatenate the scaled numerical columns and the one-hot encoded categorical columns\n",
    "    df_processed = pd.concat([df[numerical_cols], df_encoded], axis=1)\n",
    "\n",
    "    # Update the MySQL table with the normalized and one-hot encoded data\n",
    "    for _, row in df_processed.iterrows():\n",
    "        update_query = (\n",
    "            \"UPDATE cdc_cigar_use SET \"\n",
    "            \"YEAR = %s, LocationAbbr = %s, LocationDesc = %s, DataSource = %s, \"\n",
    "            \"Topic = %s, Subtopic = %s, ShortQuestionText = %s, Greater_Risk_Question = %s, \"\n",
    "            \"Description = %s, Data_Value_Symbol = %s, Data_Value_Type = %s, \"\n",
    "            \"Greater_Risk_Data_Value = %s, Greater_Risk_Data_Value_Footnote_Symbol = %s, \"\n",
    "            \"Greater_Risk_Data_Value_Footnote = %s, Greater_Risk_Low_Confidence_Limit = %s, \"\n",
    "            \"Greater_Risk_High_Confidence_Limit = %s, Lesser_Risk_Question = %s, Lesser_Risk_Data_Value = %s, \"\n",
    "            \"Lesser_Risk_Data_Value_Footnote_Symbol = %s, Lesser_Risk_Data_Value_Footnote = %s, \"\n",
    "            \"Lesser_Risk_Low_Confidence_Limit = %s, Lesser_Risk_High_Confidence_Limit = %s, Sample_Size = %s, \"\n",
    "            \"Sex = %s, Race = %s, Grade = %s, SexualIdentity = %s, SexOfSexualContacts = %s, \"\n",
    "            \"GeoLocation = %s, TopicId = %s, SubTopicID = %s, QuestionCode = %s, LocationId = %s, \"\n",
    "            \"StratID1 = %s, StratID2 = %s, StratID3 = %s, StratID4 = %s, StratID5 = %s, \"\n",
    "            \"StratificationType = %s, StratID6 = %s \"\n",
    "            \"WHERE <primary_key_column> = <primary_key_value>\"  # Update condition\n",
    "        )\n",
    "        cursor.execute(update_query, tuple(row))\n",
    "\n",
    "else:\n",
    "    print(\"DataFrame is empty or numerical_cols or categorical_cols are not specified.\")\n",
    "\n",
    "# Commit the changes and close the connection\n",
    "conn.commit()\n",
    "conn.close()\n",
    "\n",
    "print(\"Data updated successfully!\")\n"
   ]
  }
 ],
 "metadata": {
  "kernelspec": {
   "display_name": "Python 3",
   "language": "python",
   "name": "python3"
  },
  "language_info": {
   "codemirror_mode": {
    "name": "ipython",
    "version": 3
   },
   "file_extension": ".py",
   "mimetype": "text/x-python",
   "name": "python",
   "nbconvert_exporter": "python",
   "pygments_lexer": "ipython3",
   "version": "3.11.1"
  }
 },
 "nbformat": 4,
 "nbformat_minor": 2
}
