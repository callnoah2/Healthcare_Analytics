{
 "cells": [
  {
   "cell_type": "markdown",
   "metadata": {},
   "source": [
    "# Data Normalization and one-hot encoding"
   ]
  },
  {
   "cell_type": "code",
   "execution_count": 1,
   "metadata": {},
   "outputs": [],
   "source": [
    "import pandas as pd\n",
    "from sklearn.preprocessing import MinMaxScaler, OneHotEncoder\n",
    "import mysql.connector"
   ]
  },
  {
   "cell_type": "code",
   "execution_count": 18,
   "metadata": {},
   "outputs": [
    {
     "name": "stderr",
     "output_type": "stream",
     "text": [
      "/var/folders/9q/yldjq0js2ng8cysrh56tt9xw0000gn/T/ipykernel_16350/1494733521.py:12: UserWarning: pandas only supports SQLAlchemy connectable (engine/connection) or database string URI or sqlite3 DBAPI2 connection. Other DBAPI2 objects are not tested. Please consider using SQLAlchemy.\n",
      "  df = pd.read_sql(query, conn)\n"
     ]
    },
    {
     "ename": "ProgrammingError",
     "evalue": "Not all parameters were used in the SQL statement",
     "output_type": "error",
     "traceback": [
      "\u001b[0;31m---------------------------------------------------------------------------\u001b[0m",
      "\u001b[0;31mProgrammingError\u001b[0m                          Traceback (most recent call last)",
      "Cell \u001b[0;32mIn[18], line 59\u001b[0m\n\u001b[1;32m     57\u001b[0m     \u001b[38;5;66;03m# Remove the YEAR from the row before passing it to cursor.execute()\u001b[39;00m\n\u001b[1;32m     58\u001b[0m     \u001b[38;5;28;01mdel\u001b[39;00m row[\u001b[38;5;124m'\u001b[39m\u001b[38;5;124mYEAR\u001b[39m\u001b[38;5;124m'\u001b[39m]\n\u001b[0;32m---> 59\u001b[0m     \u001b[43mcursor\u001b[49m\u001b[38;5;241;43m.\u001b[39;49m\u001b[43mexecute\u001b[49m\u001b[43m(\u001b[49m\u001b[43mupdate_query\u001b[49m\u001b[43m,\u001b[49m\u001b[43m \u001b[49m\u001b[38;5;28;43mtuple\u001b[39;49m\u001b[43m(\u001b[49m\u001b[43mrow\u001b[49m\u001b[38;5;241;43m.\u001b[39;49m\u001b[43mvalues\u001b[49m\u001b[38;5;241;43m.\u001b[39;49m\u001b[43mtolist\u001b[49m\u001b[43m(\u001b[49m\u001b[43m)\u001b[49m\u001b[43m)\u001b[49m\u001b[43m \u001b[49m\u001b[38;5;241;43m+\u001b[39;49m\u001b[43m \u001b[49m\u001b[43m(\u001b[49m\u001b[43mrow_year\u001b[49m\u001b[43m,\u001b[49m\u001b[43m)\u001b[49m\u001b[43m)\u001b[49m\n\u001b[1;32m     61\u001b[0m \u001b[38;5;28;01melse\u001b[39;00m:\n\u001b[1;32m     62\u001b[0m     \u001b[38;5;28mprint\u001b[39m(\u001b[38;5;124m\"\u001b[39m\u001b[38;5;124mDataFrame is empty or numerical_cols or categorical_cols are not specified.\u001b[39m\u001b[38;5;124m\"\u001b[39m)\n",
      "File \u001b[0;32m/Library/Frameworks/Python.framework/Versions/3.11/lib/python3.11/site-packages/mysql/connector/cursor_cext.py:369\u001b[0m, in \u001b[0;36mCMySQLCursor.execute\u001b[0;34m(self, operation, params, multi)\u001b[0m\n\u001b[1;32m    367\u001b[0m         stmt \u001b[38;5;241m=\u001b[39m RE_PY_PARAM\u001b[38;5;241m.\u001b[39msub(psub, stmt)\n\u001b[1;32m    368\u001b[0m         \u001b[38;5;28;01mif\u001b[39;00m psub\u001b[38;5;241m.\u001b[39mremaining \u001b[38;5;241m!=\u001b[39m \u001b[38;5;241m0\u001b[39m:\n\u001b[0;32m--> 369\u001b[0m             \u001b[38;5;28;01mraise\u001b[39;00m ProgrammingError(\n\u001b[1;32m    370\u001b[0m                 \u001b[38;5;124m\"\u001b[39m\u001b[38;5;124mNot all parameters were used in the SQL statement\u001b[39m\u001b[38;5;124m\"\u001b[39m\n\u001b[1;32m    371\u001b[0m             )\n\u001b[1;32m    373\u001b[0m \u001b[38;5;28;01mtry\u001b[39;00m:\n\u001b[1;32m    374\u001b[0m     result \u001b[38;5;241m=\u001b[39m \u001b[38;5;28mself\u001b[39m\u001b[38;5;241m.\u001b[39m_cnx\u001b[38;5;241m.\u001b[39mcmd_query(\n\u001b[1;32m    375\u001b[0m         stmt,\n\u001b[1;32m    376\u001b[0m         raw\u001b[38;5;241m=\u001b[39m\u001b[38;5;28mself\u001b[39m\u001b[38;5;241m.\u001b[39m_raw,\n\u001b[1;32m    377\u001b[0m         buffered\u001b[38;5;241m=\u001b[39m\u001b[38;5;28mself\u001b[39m\u001b[38;5;241m.\u001b[39m_buffered,\n\u001b[1;32m    378\u001b[0m         raw_as_string\u001b[38;5;241m=\u001b[39m\u001b[38;5;28mself\u001b[39m\u001b[38;5;241m.\u001b[39m_raw_as_string,\n\u001b[1;32m    379\u001b[0m     )\n",
      "\u001b[0;31mProgrammingError\u001b[0m: Not all parameters were used in the SQL statement"
     ]
    }
   ],
   "source": [
    "# Connect to MySQL database\n",
    "conn = mysql.connector.connect(\n",
    "    host=\"localhost\",\n",
    "    user=\"monty\",\n",
    "    password=\"sushiSQL\",\n",
    "    database=\"HealthCareAnalytics\"\n",
    ")\n",
    "cursor = conn.cursor()\n",
    "\n",
    "# Read data from the MySQL table into a pandas DataFrame\n",
    "query = \"SELECT * FROM cdc_cigar_use\"\n",
    "df = pd.read_sql(query, conn)\n",
    "\n",
    "# Define numerical and categorical columns\n",
    "numerical_cols = ['YEAR', 'Greater_Risk_Data_Value', 'Greater_Risk_Low_Confidence_Limit', 'Greater_Risk_High_Confidence_Limit', 'Lesser_Risk_Data_Value', 'Lesser_Risk_Low_Confidence_Limit', 'Lesser_Risk_High_Confidence_Limit', 'Sample_Size']\n",
    "categorical_cols = ['LocationAbbr', 'LocationDesc', 'DataSource', 'Topic', 'Subtopic', 'ShortQuestionText', 'Greater_Risk_Question', 'Description', 'Data_Value_Symbol', 'Data_Value_Type', 'Greater_Risk_Data_Value_Footnote_Symbol', 'Greater_Risk_Data_Value_Footnote', 'Lesser_Risk_Question', 'Lesser_Risk_Data_Value_Footnote_Symbol', 'Lesser_Risk_Data_Value_Footnote', 'Sex', 'Race', 'Grade', 'SexualIdentity', 'SexOfSexualContacts', 'GeoLocation', 'TopicId', 'SubTopicID', 'QuestionCode', 'LocationId', 'StratID1', 'StratID2', 'StratID3', 'StratID4', 'StratID5', 'StratificationType', 'StratID6']\n",
    "\n",
    "if not df.empty and categorical_cols:\n",
    "    # Initialize MinMaxScaler\n",
    "    scaler = MinMaxScaler()\n",
    "    \n",
    "    # Fit and transform numerical columns if they exist in the DataFrame\n",
    "    df[numerical_cols] = scaler.fit_transform(df[numerical_cols])\n",
    "\n",
    "    # Perform one-hot encoding for categorical columns\n",
    "    encoder = OneHotEncoder(handle_unknown='ignore')\n",
    "    df_encoded = encoder.fit_transform(df[categorical_cols])\n",
    "\n",
    "    # Convert the sparse matrix to a dense array\n",
    "    df_encoded_dense = df_encoded.toarray()\n",
    "\n",
    "    # Concatenate the scaled numerical columns and the one-hot encoded categorical columns\n",
    "    df_processed = pd.concat([df[numerical_cols], pd.DataFrame(df_encoded_dense)], axis=1)\n",
    "\n",
    "\n",
    "    # Update the MySQL table with the normalized and one-hot encoded data\n",
    "    for _, row in df_processed.iterrows():\n",
    "        update_query = (\n",
    "            \"UPDATE cdc_cigar_use SET \"\n",
    "            \"LocationAbbr = %s, LocationDesc = %s, DataSource = %s, \"\n",
    "            \"Topic = %s, Subtopic = %s, ShortQuestionText = %s, Greater_Risk_Question = %s, \"\n",
    "            \"Description = %s, Data_Value_Symbol = %s, Data_Value_Type = %s, \"\n",
    "            \"Greater_Risk_Data_Value = %s, Greater_Risk_Data_Value_Footnote_Symbol = %s, \"\n",
    "            \"Greater_Risk_Data_Value_Footnote = %s, Greater_Risk_Low_Confidence_Limit = %s, \"\n",
    "            \"Greater_Risk_High_Confidence_Limit = %s, Lesser_Risk_Question = %s, \"\n",
    "            \"Lesser_Risk_Data_Value = %s, Lesser_Risk_Data_Value_Footnote_Symbol = %s, \"\n",
    "            \"Lesser_Risk_Data_Value_Footnote = %s, Lesser_Risk_Low_Confidence_Limit = %s, \"\n",
    "            \"Lesser_Risk_High_Confidence_Limit = %s, Sample_Size = %s, Sex = %s, Race = %s, \"\n",
    "            \"Grade = %s, SexualIdentity = %s, SexOfSexualContacts = %s, GeoLocation = %s, \"\n",
    "            \"TopicId = %s, SubTopicID = %s, QuestionCode = %s, LocationId = %s, StratID1 = %s, \"\n",
    "            \"StratID2 = %s, StratID3 = %s, StratID4 = %s, StratID5 = %s, StratificationType = %s, \"\n",
    "            \"StratID6 = %s \"\n",
    "            \"WHERE YEAR = %s\"  # Assuming YEAR is the primary key column name\n",
    "        )\n",
    "        # Extract the YEAR from the row\n",
    "        row_year = row['YEAR']\n",
    "        # Remove the YEAR from the row before passing it to cursor.execute()\n",
    "        del row['YEAR']\n",
    "        cursor.execute(update_query, tuple(row.values.tolist()) + (row_year,))\n",
    "\n",
    "else:\n",
    "    print(\"DataFrame is empty or numerical_cols or categorical_cols are not specified.\")\n",
    "\n",
    "# Commit the changes and close the connection\n",
    "conn.commit()\n",
    "conn.close()\n",
    "\n",
    "print(\"Data updated successfully!\")\n"
   ]
  }
 ],
 "metadata": {
  "kernelspec": {
   "display_name": "Python 3",
   "language": "python",
   "name": "python3"
  },
  "language_info": {
   "codemirror_mode": {
    "name": "ipython",
    "version": 3
   },
   "file_extension": ".py",
   "mimetype": "text/x-python",
   "name": "python",
   "nbconvert_exporter": "python",
   "pygments_lexer": "ipython3",
   "version": "3.11.1"
  }
 },
 "nbformat": 4,
 "nbformat_minor": 2
}
