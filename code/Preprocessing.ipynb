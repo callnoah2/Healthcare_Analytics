{
 "cells": [
  {
   "cell_type": "code",
   "execution_count": 31,
   "metadata": {},
   "outputs": [],
   "source": [
    "# Data Pre-Processing"
   ]
  },
  {
   "cell_type": "code",
   "execution_count": 35,
   "metadata": {},
   "outputs": [],
   "source": [
    "import csv\n",
    "import mysql.connector\n",
    "import mysql.connector.errors as mysql_errors\n",
    "\n",
    "conn = mysql.connector.connect(\n",
    "    host=\"localhost\",\n",
    "    user=\"monty\",\n",
    "    password=\"sushiSQL\",\n",
    "    database=\"HealthCareAnalytics\"\n",
    ")\n",
    "cursor = conn.cursor()\n"
   ]
  },
  {
   "cell_type": "markdown",
   "metadata": {},
   "source": [
    "## CDC HS Cigar Use"
   ]
  },
  {
   "cell_type": "code",
   "execution_count": 33,
   "metadata": {},
   "outputs": [
    {
     "name": "stdout",
     "output_type": "stream",
     "text": [
      "Data imported successfully!\n"
     ]
    }
   ],
   "source": [
    "# Define the path to your CSV file\n",
    "csv_file_path = \"../data/original_data/CDC_HS_Cigar_Use.csv\"\n",
    "\n",
    "# Define the MySQL table schema based on the CSV headers\n",
    "table_schema = (\n",
    "    \"CREATE TABLE IF NOT EXISTS cdc_cigar_use (\"\n",
    "    \"YEAR INT, LocationAbbr VARCHAR(10), LocationDesc VARCHAR(255), \"\n",
    "    \"DataSource VARCHAR(50), Topic VARCHAR(255), Subtopic VARCHAR(255), \"\n",
    "    \"ShortQuestionText VARCHAR(255), Greater_Risk_Question VARCHAR(255), \"\n",
    "    \"Description VARCHAR(255), Data_Value_Symbol VARCHAR(10), \"\n",
    "    \"Data_Value_Type VARCHAR(50), Greater_Risk_Data_Value FLOAT, \"\n",
    "    \"Greater_Risk_Data_Value_Footnote_Symbol VARCHAR(10), \"\n",
    "    \"Greater_Risk_Data_Value_Footnote VARCHAR(255), \"\n",
    "    \"Greater_Risk_Low_Confidence_Limit FLOAT, \"\n",
    "    \"Greater_Risk_High_Confidence_Limit FLOAT, Lesser_Risk_Question VARCHAR(255), \"\n",
    "    \"Lesser_Risk_Data_Value FLOAT, Lesser_Risk_Data_Value_Footnote_Symbol VARCHAR(10), \"\n",
    "    \"Lesser_Risk_Data_Value_Footnote VARCHAR(255), \"\n",
    "    \"Lesser_Risk_Low_Confidence_Limit FLOAT, \"\n",
    "    \"Lesser_Risk_High_Confidence_Limit FLOAT, Sample_Size INT, \"\n",
    "    \"Sex VARCHAR(50), Race VARCHAR(50), Grade VARCHAR(50), \"\n",
    "    \"SexualIdentity VARCHAR(50), SexOfSexualContacts VARCHAR(50), \"\n",
    "    \"GeoLocation VARCHAR(255), TopicId VARCHAR(10), SubTopicID VARCHAR(10), \"\n",
    "    \"QuestionCode VARCHAR(10), LocationId VARCHAR(10), \"\n",
    "    \"StratID1 VARCHAR(10), StratID2 VARCHAR(10), StratID3 VARCHAR(10), \"\n",
    "    \"StratID4 VARCHAR(10), StratID5 VARCHAR(10), StratificationType VARCHAR(50), \"\n",
    "    \"StratID6 VARCHAR(10))\"\n",
    ")\n",
    "\n",
    "# Create the table if it doesn't exist\n",
    "cursor.execute(table_schema)\n",
    "conn.commit()\n",
    "\n",
    "# Read the CSV file and insert its data into the MySQL table\n",
    "with open(csv_file_path, newline='', encoding='utf-8') as csvfile:\n",
    "    csv_reader = csv.reader(csvfile)\n",
    "    next(csv_reader)  # Skip header row\n",
    "    for row in csv_reader:\n",
    "        # Convert certain columns to appropriate data types\n",
    "        row[0] = int(row[0])  # YEAR column\n",
    "        row[13] = float(row[13]) if row[13] and row[13] != 'Did not currently smoke cigars' else None\n",
    "        row[15] = float(row[15]) if row[15] else None\n",
    "        row[16] = str(row[16]) if row[16] else None\n",
    "        row[18] = float(row[18]) if row[18] else None\n",
    "        row[20] = float(row[20]) if row[20] else None\n",
    "        row[21] = float(row[21]) if row[21] else None\n",
    "        row[22] = int(row[22]) if row[22] else None\n",
    "\n",
    "        # Insert the modified row into the MySQL table\n",
    "        insert_query = (\n",
    "            \"INSERT IGNORE INTO cdc_cigar_use \"\n",
    "            \"(YEAR, LocationAbbr, LocationDesc, DataSource, Topic, Subtopic, \"\n",
    "            \"ShortQuestionText, Greater_Risk_Question, Description, Data_Value_Symbol, \"\n",
    "            \"Data_Value_Type, Greater_Risk_Data_Value, Greater_Risk_Data_Value_Footnote_Symbol, \"\n",
    "            \"Greater_Risk_Data_Value_Footnote, Greater_Risk_Low_Confidence_Limit, \"\n",
    "            \"Greater_Risk_High_Confidence_Limit, Lesser_Risk_Question, Lesser_Risk_Data_Value, \"\n",
    "            \"Lesser_Risk_Data_Value_Footnote_Symbol, Lesser_Risk_Data_Value_Footnote, \"\n",
    "            \"Lesser_Risk_Low_Confidence_Limit, Lesser_Risk_High_Confidence_Limit, Sample_Size, \"\n",
    "            \"Sex, Race, Grade, SexualIdentity, SexOfSexualContacts, GeoLocation, TopicId, \"\n",
    "            \"SubTopicID, QuestionCode, LocationId, StratID1, StratID2, StratID3, StratID4, \"\n",
    "            \"StratID5, StratificationType, StratID6) \"\n",
    "            \"VALUES \"\n",
    "            \"(%s, %s, %s, %s, %s, %s, %s, %s, %s, %s, %s, %s, %s, %s, %s, %s, %s, %s, %s, %s, \"\n",
    "            \"%s, %s, %s, %s, %s, %s, %s, %s, %s, %s, %s, %s, %s, %s, %s, %s, %s, %s, %s, %s)\"\n",
    "        )\n",
    "        cursor.execute(insert_query, row)\n",
    "\n",
    "# Commit the changes and close the connection\n",
    "conn.commit()\n",
    "conn.close()\n",
    "\n",
    "print(\"Data imported successfully!\")"
   ]
  },
  {
   "cell_type": "markdown",
   "metadata": {},
   "source": [
    "## CMS Specific Chronic Condidions"
   ]
  },
  {
   "cell_type": "code",
   "execution_count": 36,
   "metadata": {},
   "outputs": [
    {
     "name": "stdout",
     "output_type": "stream",
     "text": [
      "Data imported successfully!\n"
     ]
    }
   ],
   "source": [
    "# Define the path to your CSV file\n",
    "csv_file_path = \"../data/original_data/CMS_Specific_Chronic_Conditions.csv\"\n",
    "\n",
    "# Define the MySQL table schema based on the CSV headers\n",
    "table_schema = (\n",
    "    \"CREATE TABLE IF NOT EXISTS cms_chronic_conditions (\"\n",
    "    \"Bene_Geo_Lvl VARCHAR(50), Bene_Geo_Desc VARCHAR(255), Bene_Geo_Cd VARCHAR(10), \"\n",
    "    \"Bene_Age_Lvl VARCHAR(50), Bene_Demo_Lvl VARCHAR(50), Bene_Demo_Desc VARCHAR(255), \"\n",
    "    \"Bene_Cond VARCHAR(255), Prvlnc FLOAT, Tot_Mdcr_Stdzd_Pymt_PC FLOAT, \"\n",
    "    \"Tot_Mdcr_Pymt_PC FLOAT, Hosp_Readmsn_Rate FLOAT, ER_Visits_Per_1000_Benes FLOAT)\"\n",
    ")\n",
    "\n",
    "# Create the table if it doesn't exist\n",
    "cursor.execute(table_schema)\n",
    "conn.commit()\n",
    "\n",
    "# Read the CSV file and insert its data into the MySQL table\n",
    "with open(csv_file_path, newline='', encoding='utf-8') as csvfile:\n",
    "    csv_reader = csv.reader(csvfile)\n",
    "    next(csv_reader)  # Skip header row\n",
    "    for row in csv_reader:\n",
    "        # Convert certain columns to appropriate data types\n",
    "        row[7] = float(row[7]) if row[7] else None  # Prvlnc\n",
    "        row[8] = float(row[8]) if row[8] else None  # Tot_Mdcr_Stdzd_Pymt_PC\n",
    "        row[9] = float(row[9]) if row[9] else None  # Tot_Mdcr_Pymt_PC\n",
    "        row[10] = float(row[10]) if row[10] else None  # Hosp_Readmsn_Rate\n",
    "        row[11] = float(row[11]) if row[11] else None  # ER_Visits_Per_1000_Benes\n",
    "\n",
    "        # Insert the modified row into the MySQL table\n",
    "        insert_query = (\n",
    "            \"INSERT IGNORE INTO cms_chronic_conditions \"\n",
    "            \"(Bene_Geo_Lvl, Bene_Geo_Desc, Bene_Geo_Cd, Bene_Age_Lvl, Bene_Demo_Lvl, \"\n",
    "            \"Bene_Demo_Desc, Bene_Cond, Prvlnc, Tot_Mdcr_Stdzd_Pymt_PC, Tot_Mdcr_Pymt_PC, \"\n",
    "            \"Hosp_Readmsn_Rate, ER_Visits_Per_1000_Benes) \"\n",
    "            \"VALUES \"\n",
    "            \"(%s, %s, %s, %s, %s, %s, %s, %s, %s, %s, %s, %s)\"\n",
    "        )\n",
    "        cursor.execute(insert_query, row)\n",
    "\n",
    "# Commit the changes and close the connection\n",
    "conn.commit()\n",
    "conn.close()\n",
    "\n",
    "print(\"Data imported successfully!\")"
   ]
  },
  {
   "cell_type": "markdown",
   "metadata": {},
   "source": [
    "### CDV Cleaned"
   ]
  }
 ],
 "metadata": {
  "kernelspec": {
   "display_name": "Python 3",
   "language": "python",
   "name": "python3"
  },
  "language_info": {
   "codemirror_mode": {
    "name": "ipython",
    "version": 3
   },
   "file_extension": ".py",
   "mimetype": "text/x-python",
   "name": "python",
   "nbconvert_exporter": "python",
   "pygments_lexer": "ipython3",
   "version": "3.11.1"
  }
 },
 "nbformat": 4,
 "nbformat_minor": 2
}
